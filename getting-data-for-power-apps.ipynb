{
 "cells": [
  {
   "cell_type": "markdown",
   "id": "f3ed8908",
   "metadata": {
    "_cell_guid": "25099c4b-75fe-42a5-b240-00e3e1d9f2e6",
    "_uuid": "edd3c62d-a169-4cc1-abf3-4eb3bb80f19f",
    "papermill": {
     "duration": 0.008034,
     "end_time": "2023-09-09T00:02:36.390097",
     "exception": false,
     "start_time": "2023-09-09T00:02:36.382063",
     "status": "completed"
    },
    "tags": []
   },
   "source": [
    "# Description"
   ]
  },
  {
   "cell_type": "markdown",
   "id": "b4a5c11a",
   "metadata": {
    "_cell_guid": "f689f0b6-8054-4562-9b5d-25d15555b71f",
    "_uuid": "a52874c6-370c-42ae-88b8-135efee14625",
    "papermill": {
     "duration": 0.006257,
     "end_time": "2023-09-09T00:02:36.403349",
     "exception": false,
     "start_time": "2023-09-09T00:02:36.397092",
     "status": "completed"
    },
    "tags": []
   },
   "source": [
    "This notebook was created for me to transform some employee that into something I can use for dummy data for a Microsoft Power Apps idea."
   ]
  },
  {
   "cell_type": "markdown",
   "id": "e06d25dc",
   "metadata": {
    "_cell_guid": "0b90c681-96ea-4b56-83d9-3f27074a78ca",
    "_uuid": "6173794f-3c39-4458-9cab-d2bdabf615ca",
    "papermill": {
     "duration": 0.006169,
     "end_time": "2023-09-09T00:02:36.416055",
     "exception": false,
     "start_time": "2023-09-09T00:02:36.409886",
     "status": "completed"
    },
    "tags": []
   },
   "source": [
    "# Importing libs"
   ]
  },
  {
   "cell_type": "code",
   "execution_count": 1,
   "id": "4a81a5d0",
   "metadata": {
    "_cell_guid": "e051c99f-af4b-405a-b301-3836d2bd0e7b",
    "_uuid": "a9f19fd8-afc8-4fd4-b401-64a784fe3475",
    "collapsed": false,
    "execution": {
     "iopub.execute_input": "2023-09-09T00:02:36.431584Z",
     "iopub.status.busy": "2023-09-09T00:02:36.430807Z",
     "iopub.status.idle": "2023-09-09T00:02:38.569270Z",
     "shell.execute_reply": "2023-09-09T00:02:38.568026Z"
    },
    "jupyter": {
     "outputs_hidden": false
    },
    "papermill": {
     "duration": 2.1499,
     "end_time": "2023-09-09T00:02:38.572470",
     "exception": false,
     "start_time": "2023-09-09T00:02:36.422570",
     "status": "completed"
    },
    "tags": []
   },
   "outputs": [],
   "source": [
    "import pandas as pd \n",
    "import seaborn as sns"
   ]
  },
  {
   "cell_type": "markdown",
   "id": "32a3e74a",
   "metadata": {
    "_cell_guid": "c201b568-1ff2-4e32-9084-b566e2a897e9",
    "_uuid": "1b5b00be-da07-4a9b-9c05-c5f7928ad16b",
    "papermill": {
     "duration": 0.006225,
     "end_time": "2023-09-09T00:02:38.585499",
     "exception": false,
     "start_time": "2023-09-09T00:02:38.579274",
     "status": "completed"
    },
    "tags": []
   },
   "source": [
    "# Loading the file"
   ]
  },
  {
   "cell_type": "code",
   "execution_count": 2,
   "id": "996facbf",
   "metadata": {
    "_cell_guid": "9584c92a-fae9-4edf-856c-9da35f5742f7",
    "_uuid": "39715edc-f664-4081-8b54-a3dc38798dc8",
    "collapsed": false,
    "execution": {
     "iopub.execute_input": "2023-09-09T00:02:38.600550Z",
     "iopub.status.busy": "2023-09-09T00:02:38.599997Z",
     "iopub.status.idle": "2023-09-09T00:02:38.639539Z",
     "shell.execute_reply": "2023-09-09T00:02:38.638675Z"
    },
    "jupyter": {
     "outputs_hidden": false
    },
    "papermill": {
     "duration": 0.050832,
     "end_time": "2023-09-09T00:02:38.642867",
     "exception": false,
     "start_time": "2023-09-09T00:02:38.592035",
     "status": "completed"
    },
    "tags": []
   },
   "outputs": [],
   "source": [
    "file_path = \"/kaggle/input/ibm-hr-analytics-attrition-dataset/WA_Fn-UseC_-HR-Employee-Attrition.csv\"\n",
    "\n",
    "df = pd.read_csv(file_path)"
   ]
  },
  {
   "cell_type": "markdown",
   "id": "039aec40",
   "metadata": {
    "_cell_guid": "77e99651-624c-4e4d-954e-ade9ddee9102",
    "_uuid": "59f15594-c9f6-46da-ab05-ad64ad2112d4",
    "papermill": {
     "duration": 0.006362,
     "end_time": "2023-09-09T00:02:38.656350",
     "exception": false,
     "start_time": "2023-09-09T00:02:38.649988",
     "status": "completed"
    },
    "tags": []
   },
   "source": [
    "# Listing columns"
   ]
  },
  {
   "cell_type": "code",
   "execution_count": 3,
   "id": "e9c34fd8",
   "metadata": {
    "_cell_guid": "38ea4c1b-428c-497d-926f-b217021f12b5",
    "_uuid": "f071cb3f-dbf6-4562-913e-e7cec7bc318d",
    "collapsed": false,
    "execution": {
     "iopub.execute_input": "2023-09-09T00:02:38.671835Z",
     "iopub.status.busy": "2023-09-09T00:02:38.671403Z",
     "iopub.status.idle": "2023-09-09T00:02:38.680090Z",
     "shell.execute_reply": "2023-09-09T00:02:38.678880Z"
    },
    "jupyter": {
     "outputs_hidden": false
    },
    "papermill": {
     "duration": 0.019387,
     "end_time": "2023-09-09T00:02:38.682566",
     "exception": false,
     "start_time": "2023-09-09T00:02:38.663179",
     "status": "completed"
    },
    "tags": []
   },
   "outputs": [
    {
     "data": {
      "text/plain": [
       "Index(['Age', 'Attrition', 'BusinessTravel', 'DailyRate', 'Department',\n",
       "       'DistanceFromHome', 'Education', 'EducationField', 'EmployeeCount',\n",
       "       'EmployeeNumber', 'EnvironmentSatisfaction', 'Gender', 'HourlyRate',\n",
       "       'JobInvolvement', 'JobLevel', 'JobRole', 'JobSatisfaction',\n",
       "       'MaritalStatus', 'MonthlyIncome', 'MonthlyRate', 'NumCompaniesWorked',\n",
       "       'Over18', 'OverTime', 'PercentSalaryHike', 'PerformanceRating',\n",
       "       'RelationshipSatisfaction', 'StandardHours', 'StockOptionLevel',\n",
       "       'TotalWorkingYears', 'TrainingTimesLastYear', 'WorkLifeBalance',\n",
       "       'YearsAtCompany', 'YearsInCurrentRole', 'YearsSinceLastPromotion',\n",
       "       'YearsWithCurrManager'],\n",
       "      dtype='object')"
      ]
     },
     "execution_count": 3,
     "metadata": {},
     "output_type": "execute_result"
    }
   ],
   "source": [
    "df.columns"
   ]
  },
  {
   "cell_type": "markdown",
   "id": "96f7fdbc",
   "metadata": {
    "papermill": {
     "duration": 0.00663,
     "end_time": "2023-09-09T00:02:38.696399",
     "exception": false,
     "start_time": "2023-09-09T00:02:38.689769",
     "status": "completed"
    },
    "tags": []
   },
   "source": [
    "# Selecting the columns"
   ]
  },
  {
   "cell_type": "code",
   "execution_count": 4,
   "id": "1259a53e",
   "metadata": {
    "_cell_guid": "fb1d7f9a-daec-4ba3-b42d-76daaab0349a",
    "_uuid": "dfe0c41e-94fb-4cb1-a538-e2fb3b46b5d8",
    "collapsed": false,
    "execution": {
     "iopub.execute_input": "2023-09-09T00:02:38.712080Z",
     "iopub.status.busy": "2023-09-09T00:02:38.711559Z",
     "iopub.status.idle": "2023-09-09T00:02:38.733263Z",
     "shell.execute_reply": "2023-09-09T00:02:38.732016Z"
    },
    "jupyter": {
     "outputs_hidden": false
    },
    "papermill": {
     "duration": 0.033121,
     "end_time": "2023-09-09T00:02:38.736421",
     "exception": false,
     "start_time": "2023-09-09T00:02:38.703300",
     "status": "completed"
    },
    "tags": []
   },
   "outputs": [],
   "source": [
    "df = df[['Age', 'Attrition', 'Department', 'EducationField','EmployeeNumber', 'Gender', 'JobLevel', 'JobRole', 'JobSatisfaction', 'MonthlyIncome',\n",
    "       'YearsAtCompany']]"
   ]
  },
  {
   "cell_type": "markdown",
   "id": "d09e679c",
   "metadata": {
    "papermill": {
     "duration": 0.006663,
     "end_time": "2023-09-09T00:02:38.750431",
     "exception": false,
     "start_time": "2023-09-09T00:02:38.743768",
     "status": "completed"
    },
    "tags": []
   },
   "source": [
    "# Exporting to Excel"
   ]
  },
  {
   "cell_type": "code",
   "execution_count": 5,
   "id": "88afdbbb",
   "metadata": {
    "_cell_guid": "77e70645-ecbc-4e7c-9665-5a93a2af7888",
    "_uuid": "bd9fcfed-ed8a-4c10-ada0-ec28af0571f5",
    "collapsed": false,
    "execution": {
     "iopub.execute_input": "2023-09-09T00:02:38.766581Z",
     "iopub.status.busy": "2023-09-09T00:02:38.765574Z",
     "iopub.status.idle": "2023-09-09T00:02:39.869164Z",
     "shell.execute_reply": "2023-09-09T00:02:39.867552Z"
    },
    "jupyter": {
     "outputs_hidden": false
    },
    "papermill": {
     "duration": 1.115635,
     "end_time": "2023-09-09T00:02:39.872841",
     "exception": false,
     "start_time": "2023-09-09T00:02:38.757206",
     "status": "completed"
    },
    "tags": []
   },
   "outputs": [],
   "source": [
    "df.to_excel(\"Employee info.xlsx\")"
   ]
  }
 ],
 "kernelspec": {
  "display_name": "Python 3",
  "language": "python",
  "name": "python3"
 },
 "language_info": {
  "codemirror_mode": {
   "name": "ipython",
   "version": 3
  },
  "file_extension": ".py",
  "mimetype": "text/x-python",
  "name": "python",
  "nbconvert_exporter": "python",
  "pygments_lexer": "ipython3",
  "version": "3.6.4"
 },
 "metadata": {
  "kernelspec": {
   "display_name": "Python 3",
   "language": "python",
   "name": "python3"
  },
  "language_info": {
   "codemirror_mode": {
    "name": "ipython",
    "version": 3
   },
   "file_extension": ".py",
   "mimetype": "text/x-python",
   "name": "python",
   "nbconvert_exporter": "python",
   "pygments_lexer": "ipython3",
   "version": "3.10.12"
  },
  "papermill": {
   "default_parameters": {},
   "duration": 7.912622,
   "end_time": "2023-09-09T00:02:40.503985",
   "environment_variables": {},
   "exception": null,
   "input_path": "__notebook__.ipynb",
   "output_path": "__notebook__.ipynb",
   "parameters": {},
   "start_time": "2023-09-09T00:02:32.591363",
   "version": "2.4.0"
  }
 },
 "nbformat": 4,
 "nbformat_minor": 5
}
